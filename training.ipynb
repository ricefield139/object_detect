{
 "cells": [
  {
   "cell_type": "code",
   "execution_count": null,
   "id": "ccf07f17",
   "metadata": {},
   "outputs": [],
   "source": [
    "import getpass\n",
    "import os\n",
    "password = getpass.getpass()\n",
    "#NOTE : !command --> pass the command to terminal, not python interpreter"
   ]
  },
  {
   "cell_type": "code",
   "execution_count": null,
   "id": "d40da135",
   "metadata": {},
   "outputs": [],
   "source": [
    "CUSTOM_MODEL_NAME ='my_ssd_mobnet'\n",
    "PRETRAINED_MODEL_NAME = 'ssd_mobilenet_v2_fpnlite_320x320_coco17_tpu-8'\n",
    "PRETRAINED_MODEL_URL = 'http://download.tensorflow.org/models/object_detection/tf2/20200711/ssd_mobilenet_v2_fpnlite_320x320_coco17_tpu-8.tar.gz'\n",
    "TF_RECORD_SCRIPT_NAME = 'generate_tfrecord.py'\n",
    "LABEL_MAP_NAME = 'label_map.pbtxt'"
   ]
  },
  {
   "cell_type": "code",
   "execution_count": null,
   "id": "5107042c",
   "metadata": {},
   "outputs": [],
   "source": [
    "CUSTOM_MODEL_NAME"
   ]
  },
  {
   "cell_type": "code",
   "execution_count": null,
   "id": "87f19db4",
   "metadata": {},
   "outputs": [],
   "source": [
    "paths ={\n",
    "    'WORKSPACE_PATH':os.path.join('RicefieldTF','Tensorflow','workspace'),\n",
    "    'SCRIPTS_PATH':os.path.join('RicefieldTF','Tensorflow','scripts'),\n",
    "    'APIMODEL_PATH':os.path.join('RicefieldTF','Tensorflow','models'),\n",
    "    'ANNOTATION_PATH':os.path.join('RicefieldTF','Tensorflow','workspace','annotations'),\n",
    "    'IMAGE_PATH':os.path.join('RicefieldTF','Tensorflow','workspace','images'),\n",
    "    'MODEL_PATH':os.path.join('RicefieldTF','Tensorflow','workspace','models'),\n",
    "    'PRETRAINED_MODEL_PATH':os.path.join('RicefieldTF','Tensorflow','workspace','pre-trained-models'),\n",
    "    'CHECKPOINT_PATH':os.path.join('RicefieldTF','Tensorflow','workspace','models',CUSTOM_MODEL_NAME),\n",
    "    'OUTPUT_PATH':os.path.join('RicefieldTF','Tensorflow','workspace','models',CUSTOM_MODEL_NAME,'export'),\n",
    "    'TFJS_PATH':os.path.join('RicefieldTF','Tensorflow','workspace','models',CUSTOM_MODEL_NAME,'tfjsexport'),\n",
    "    'TFLITE_PATH':os.path.join('RicefieldTF','Tensorflow','workspace','models',CUSTOM_MODEL_NAME,'tfjliteport'),\n",
    "    'PROTOC_PATH':os.path.join('RicefieldTF','Tensorflow','protoc')\n",
    "}"
   ]
  },
  {
   "cell_type": "code",
   "execution_count": null,
   "id": "ff46ea7e",
   "metadata": {},
   "outputs": [],
   "source": [
    "files={\n",
    "    'PIPELINE_CONFIG':os.path.join('RicefieldTF','Tensorflow','workspace','models',CUSTOM_MODEL_NAME,'pipeline.config'),\n",
    "    'TF_RECORD_SCRIPT':os.path.join(paths['SCRIPTS_PATH'], TF_RECORD_SCRIPT_NAME),\n",
    "    'LABELMAP':os.path.join(paths['ANNOTATION_PATH'],LABEL_MAP_NAME)    \n",
    "}"
   ]
  },
  {
   "cell_type": "code",
   "execution_count": null,
   "id": "ebb90928",
   "metadata": {},
   "outputs": [],
   "source": [
    "for path in paths.values():\n",
    "    if not os.path.exists(path):\n",
    "        if os.name == 'posix':\n",
    "            !mkdir -p {path}\n",
    "        if os.name =='nt':\n",
    "            !mkdir {path}\n",
    "print(os.name)"
   ]
  },
  {
   "cell_type": "markdown",
   "id": "a37a68d0",
   "metadata": {},
   "source": [
    "## Download TF Models and Install TFOD"
   ]
  },
  {
   "cell_type": "code",
   "execution_count": null,
   "id": "1ec8c04e",
   "metadata": {},
   "outputs": [],
   "source": [
    "if os.name == 'nt':\n",
    "    !pip install wget\n",
    "    import wget"
   ]
  },
  {
   "cell_type": "code",
   "execution_count": null,
   "id": "b825daae",
   "metadata": {},
   "outputs": [],
   "source": [
    "#clone tf model repo\n",
    "if not os.path.exists(os.path.join(paths['APIMODEL_PATH'],'research','object_detection')):\n",
    "    !git clone https://github.com/tensorflow/models {paths['APIMODEL_PATH']}"
   ]
  },
  {
   "cell_type": "code",
   "execution_count": null,
   "id": "f3988e69",
   "metadata": {},
   "outputs": [],
   "source": [
    "# Install Tensorflow Object Detection \n",
    "#linux\n",
    "if os.name=='posix':  \n",
    "    #install protocol buffers\n",
    "    #run this command = \"sudo apt-get install protobuf-compiler\"\n",
    "    !cd RicefieldTF/Tensorflow/models/research && protoc object_detection/protos/*.proto --python_out=. && cp object_detection/packages/tf2/setup.py . && python -m pip install . \n",
    "    \n",
    "#windows\n",
    "if os.name=='nt':\n",
    "    url=\"https://github.com/protocolbuffers/protobuf/releases/download/v3.15.6/protoc-3.15.6-win64.zip\"\n",
    "    wget.download(url)\n",
    "    !move protoc-3.15.6-win64.zip {paths['PROTOC_PATH']}\n",
    "    !cd {paths['PROTOC_PATH']} && tar -xf protoc-3.15.6-win64.zip\n",
    "    os.environ['PATH'] += os.pathsep + os.path.abspath(os.path.join(paths['PROTOC_PATH'], 'bin'))   \n",
    "    !cd RicefieldTF/Tensorflow/models/research && protoc object_detection/protos/*.proto --python_out=. && copy object_detection\\\\packages\\\\tf2\\\\setup.py setup.py && python setup.py build && python setup.py install\n",
    "    !cd RicefieldTF/Tensorflow/models/research/slim && pip install -e ."
   ]
  },
  {
   "cell_type": "code",
   "execution_count": null,
   "id": "c1a856a5",
   "metadata": {},
   "outputs": [],
   "source": [
    "VERIFICATION_SCRIPT = os.path.join(paths['APIMODEL_PATH'], 'research', 'object_detection', 'builders', 'model_builder_tf2_test.py')\n",
    "# Verify Installation\n",
    "# DO NOT FORGET pip install tensorflow --upgrade , pip install matplotlib==3.2 if needed before running this\n",
    "# Get this in the end  --> OK (skipped=1)\n",
    "!python {VERIFICATION_SCRIPT}"
   ]
  },
  {
   "cell_type": "code",
   "execution_count": 17,
   "id": "6318d541",
   "metadata": {},
   "outputs": [],
   "source": [
    "import object_detection"
   ]
  },
  {
   "cell_type": "code",
   "execution_count": 18,
   "id": "4d249abf",
   "metadata": {},
   "outputs": [
    {
     "name": "stdout",
     "output_type": "stream",
     "text": [
      "Package                       Version\r\n",
      "----------------------------- -------------------\r\n",
      "absl-py                       0.12.0\r\n",
      "apache-beam                   2.31.0\r\n",
      "astunparse                    1.6.3\r\n",
      "attrs                         21.2.0\r\n",
      "avro-python3                  1.9.2.1\r\n",
      "backcall                      0.2.0\r\n",
      "cachetools                    4.2.2\r\n",
      "certifi                       2021.5.30\r\n",
      "cffi                          1.14.6\r\n",
      "chardet                       4.0.0\r\n",
      "contextlib2                   21.6.0\r\n",
      "crcmod                        1.7\r\n",
      "cycler                        0.10.0\r\n",
      "Cython                        0.29.23\r\n",
      "debugpy                       1.3.0\r\n",
      "decorator                     5.0.9\r\n",
      "dill                          0.3.1.1\r\n",
      "dm-tree                       0.1.6\r\n",
      "docopt                        0.6.2\r\n",
      "fastavro                      1.4.2\r\n",
      "flatbuffers                   1.12\r\n",
      "future                        0.18.2\r\n",
      "gast                          0.4.0\r\n",
      "gin-config                    0.4.0\r\n",
      "google-api-core               1.31.0\r\n",
      "google-api-python-client      2.12.0\r\n",
      "google-auth                   1.32.1\r\n",
      "google-auth-httplib2          0.1.0\r\n",
      "google-auth-oauthlib          0.4.4\r\n",
      "google-cloud-bigquery         2.20.0\r\n",
      "google-cloud-core             1.7.1\r\n",
      "google-crc32c                 1.1.2\r\n",
      "google-pasta                  0.2.0\r\n",
      "google-resumable-media        1.3.1\r\n",
      "googleapis-common-protos      1.53.0\r\n",
      "grpcio                        1.34.1\r\n",
      "h5py                          3.1.0\r\n",
      "hdfs                          2.6.0\r\n",
      "httplib2                      0.19.1\r\n",
      "idna                          2.10\r\n",
      "importlib-resources           5.2.0\r\n",
      "ipykernel                     6.0.1\r\n",
      "ipython                       7.25.0\r\n",
      "ipython-genutils              0.2.0\r\n",
      "jedi                          0.18.0\r\n",
      "joblib                        1.0.1\r\n",
      "jupyter-client                6.1.12\r\n",
      "jupyter-core                  4.7.1\r\n",
      "kaggle                        1.5.12\r\n",
      "keras-nightly                 2.5.0.dev2021032900\r\n",
      "Keras-Preprocessing           1.1.2\r\n",
      "kiwisolver                    1.3.1\r\n",
      "lvis                          0.5.3\r\n",
      "lxml                          4.6.3\r\n",
      "Markdown                      3.3.4\r\n",
      "matplotlib                    3.4.2\r\n",
      "matplotlib-inline             0.1.2\r\n",
      "numpy                         1.19.5\r\n",
      "oauth2client                  4.1.3\r\n",
      "oauthlib                      3.1.1\r\n",
      "object-detection              0.1\r\n",
      "opencv-python                 4.5.3.56\r\n",
      "opencv-python-headless        4.5.3.56\r\n",
      "opt-einsum                    3.3.0\r\n",
      "packaging                     21.0\r\n",
      "pandas                        1.3.0\r\n",
      "parso                         0.8.2\r\n",
      "pexpect                       4.8.0\r\n",
      "pickleshare                   0.7.5\r\n",
      "Pillow                        8.3.1\r\n",
      "pip                           21.1.3\r\n",
      "portalocker                   2.0.0\r\n",
      "promise                       2.3\r\n",
      "prompt-toolkit                3.0.19\r\n",
      "proto-plus                    1.19.0\r\n",
      "protobuf                      3.17.3\r\n",
      "psutil                        5.8.0\r\n",
      "ptyprocess                    0.7.0\r\n",
      "py-cpuinfo                    8.0.0\r\n",
      "pyarrow                       4.0.1\r\n",
      "pyasn1                        0.4.8\r\n",
      "pyasn1-modules                0.2.8\r\n",
      "pycocotools                   2.0.2\r\n",
      "pycparser                     2.20\r\n",
      "pydot                         1.4.2\r\n",
      "Pygments                      2.9.0\r\n",
      "pymongo                       3.11.4\r\n",
      "pyparsing                     2.4.7\r\n",
      "python-dateutil               2.8.1\r\n",
      "python-slugify                5.0.2\r\n",
      "pytz                          2021.1\r\n",
      "PyYAML                        5.4.1\r\n",
      "pyzmq                         22.1.0\r\n",
      "requests                      2.25.1\r\n",
      "requests-oauthlib             1.3.0\r\n",
      "rsa                           4.7.2\r\n",
      "sacrebleu                     1.5.1\r\n",
      "scikit-learn                  0.24.2\r\n",
      "scipy                         1.7.0\r\n",
      "sentencepiece                 0.1.96\r\n",
      "seqeval                       1.2.2\r\n",
      "setuptools                    49.2.1\r\n",
      "six                           1.15.0\r\n",
      "tensorboard                   2.5.0\r\n",
      "tensorboard-data-server       0.6.1\r\n",
      "tensorboard-plugin-wit        1.8.0\r\n",
      "tensorflow                    2.5.0\r\n",
      "tensorflow-addons             0.13.0\r\n",
      "tensorflow-datasets           4.3.0\r\n",
      "tensorflow-estimator          2.5.0\r\n",
      "tensorflow-hub                0.12.0\r\n",
      "tensorflow-metadata           1.1.0\r\n",
      "tensorflow-model-optimization 0.6.0\r\n",
      "termcolor                     1.1.0\r\n",
      "text-unidecode                1.3\r\n",
      "tf-models-official            2.5.0\r\n",
      "tf-slim                       1.1.0\r\n",
      "threadpoolctl                 2.2.0\r\n",
      "tornado                       6.1\r\n",
      "tqdm                          4.61.2\r\n",
      "traitlets                     5.0.5\r\n",
      "typeguard                     2.12.1\r\n",
      "typing-extensions             3.7.4.3\r\n",
      "uritemplate                   3.0.1\r\n",
      "urllib3                       1.26.6\r\n",
      "wcwidth                       0.2.5\r\n",
      "Werkzeug                      2.0.1\r\n",
      "wheel                         0.36.2\r\n",
      "wrapt                         1.12.1\r\n",
      "zipp                          3.5.0\r\n"
     ]
    }
   ],
   "source": [
    "!pip list"
   ]
  },
  {
   "cell_type": "code",
   "execution_count": 19,
   "id": "dfb182b5",
   "metadata": {},
   "outputs": [],
   "source": [
    "#SINCE IM USING A LAPTOP WITHOUT CUDA AND CUDNN, IM JUST GOING TO SKIP THIS. GOOD LUCK CPU"
   ]
  },
  {
   "cell_type": "code",
   "execution_count": 22,
   "id": "e54a5f87",
   "metadata": {},
   "outputs": [
    {
     "name": "stdout",
     "output_type": "stream",
     "text": [
      "--2021-07-11 15:14:38--  http://download.tensorflow.org/models/object_detection/tf2/20200711/ssd_mobilenet_v2_fpnlite_320x320_coco17_tpu-8.tar.gz\n",
      "Resolving download.tensorflow.org (download.tensorflow.org)... 142.251.10.128, 2404:6800:4003:c03::80\n",
      "Connecting to download.tensorflow.org (download.tensorflow.org)|142.251.10.128|:80... connected.\n",
      "HTTP request sent, awaiting response... 200 OK\n",
      "Length: 20515344 (20M) [application/x-tar]\n",
      "Saving to: ‘ssd_mobilenet_v2_fpnlite_320x320_coco17_tpu-8.tar.gz.1’\n",
      "\n",
      "ssd_mobilenet_v2_fp 100%[===================>]  19.56M  12.8MB/s    in 1.5s    \n",
      "\n",
      "2021-07-11 15:14:40 (12.8 MB/s) - ‘ssd_mobilenet_v2_fpnlite_320x320_coco17_tpu-8.tar.gz.1’ saved [20515344/20515344]\n",
      "\n",
      "ssd_mobilenet_v2_fpnlite_320x320_coco17_tpu-8/\n",
      "ssd_mobilenet_v2_fpnlite_320x320_coco17_tpu-8/checkpoint/\n",
      "ssd_mobilenet_v2_fpnlite_320x320_coco17_tpu-8/checkpoint/ckpt-0.data-00000-of-00001\n",
      "ssd_mobilenet_v2_fpnlite_320x320_coco17_tpu-8/checkpoint/checkpoint\n",
      "ssd_mobilenet_v2_fpnlite_320x320_coco17_tpu-8/checkpoint/ckpt-0.index\n",
      "ssd_mobilenet_v2_fpnlite_320x320_coco17_tpu-8/pipeline.config\n",
      "ssd_mobilenet_v2_fpnlite_320x320_coco17_tpu-8/saved_model/\n",
      "ssd_mobilenet_v2_fpnlite_320x320_coco17_tpu-8/saved_model/saved_model.pb\n",
      "ssd_mobilenet_v2_fpnlite_320x320_coco17_tpu-8/saved_model/variables/\n",
      "ssd_mobilenet_v2_fpnlite_320x320_coco17_tpu-8/saved_model/variables/variables.data-00000-of-00001\n",
      "ssd_mobilenet_v2_fpnlite_320x320_coco17_tpu-8/saved_model/variables/variables.index\n"
     ]
    }
   ],
   "source": [
    "#get pretrained model\n",
    "#you know what im just gonna assume this is linux ok can? let me know if you want the windows version\n",
    "if os.name =='posix':\n",
    "    !wget {PRETRAINED_MODEL_URL}\n",
    "    !mv {PRETRAINED_MODEL_NAME+'.tar.gz'} {paths['PRETRAINED_MODEL_PATH']}\n",
    "    !cd {paths['PRETRAINED_MODEL_PATH']} && tar -zxvf {PRETRAINED_MODEL_NAME+'.tar.gz'}"
   ]
  },
  {
   "cell_type": "code",
   "execution_count": 23,
   "id": "a808870a",
   "metadata": {},
   "outputs": [],
   "source": [
    "#habis ini nyoba pake in label apa ya?"
   ]
  },
  {
   "cell_type": "code",
   "execution_count": 26,
   "id": "56157a79",
   "metadata": {},
   "outputs": [
    {
     "name": "stdout",
     "output_type": "stream",
     "text": [
      "Looking in indexes: https://google-coral.github.io/py-repo/\n",
      "Collecting tflite_runtime\n",
      "  Downloading https://github.com/google-coral/pycoral/releases/download/v1.0.1/tflite_runtime-2.5.0-cp38-cp38-linux_x86_64.whl (1.2 MB)\n",
      "\u001b[K     |████████████████████████████████| 1.2 MB 2.2 MB/s eta 0:00:01\n",
      "\u001b[?25hRequirement already satisfied: numpy>=1.12.1 in ./tfod/lib/python3.8/site-packages (from tflite_runtime) (1.19.5)\n",
      "Installing collected packages: tflite-runtime\n",
      "Successfully installed tflite-runtime-2.5.0\n"
     ]
    }
   ],
   "source": [
    "#tflite pake ini: pip3 install --index-url https://google-coral.github.io/py-repo/ tflite_runtime\n",
    "!pip3 install --index-url https://google-coral.github.io/py-repo/ tflite_runtime"
   ]
  },
  {
   "cell_type": "code",
   "execution_count": 27,
   "id": "ce6182eb",
   "metadata": {},
   "outputs": [],
   "source": [
    "import tflite_runtime.interpreter as tflite"
   ]
  },
  {
   "cell_type": "code",
   "execution_count": null,
   "id": "ba2f5dc3",
   "metadata": {},
   "outputs": [],
   "source": []
  }
 ],
 "metadata": {
  "kernelspec": {
   "display_name": "tfod",
   "language": "python",
   "name": "tfod"
  },
  "language_info": {
   "codemirror_mode": {
    "name": "ipython",
    "version": 3
   },
   "file_extension": ".py",
   "mimetype": "text/x-python",
   "name": "python",
   "nbconvert_exporter": "python",
   "pygments_lexer": "ipython3",
   "version": "3.8.8"
  }
 },
 "nbformat": 4,
 "nbformat_minor": 5
}
